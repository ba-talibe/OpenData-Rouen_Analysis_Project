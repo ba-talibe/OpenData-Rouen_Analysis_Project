{
 "cells": [
  {
   "cell_type": "code",
   "execution_count": 54,
   "id": "6b7f76a3-89fe-42ed-8548-04deecda4554",
   "metadata": {},
   "outputs": [],
   "source": [
    "import pandas as pd\n",
    "import plotly_express as px\n",
    "import ipywidgets "
   ]
  },
  {
   "cell_type": "code",
   "execution_count": 55,
   "id": "8f4dbb69-5bda-49a1-b77b-906f93178226",
   "metadata": {},
   "outputs": [],
   "source": [
    "df = pd.read_csv('data.csv',sep=\";\")"
   ]
  },
  {
   "cell_type": "code",
   "execution_count": 56,
   "id": "2b84ee40-e174-4425-a6ae-fa7da9304755",
   "metadata": {},
   "outputs": [],
   "source": [
    "ids = df['Id'].unique()"
   ]
  },
  {
   "cell_type": "code",
   "execution_count": 57,
   "id": "9d95b6b2-f403-4952-b3aa-e43fbdcecb22",
   "metadata": {},
   "outputs": [
    {
     "data": {
      "text/plain": [
       "Index(['Id', 'Date_JJMMAA HH:MM', 'Comptage', 'Status', 'Nom', 'Usager',\n",
       "       'Photo', 'Date_JJMMAA'],\n",
       "      dtype='object')"
      ]
     },
     "execution_count": 57,
     "metadata": {},
     "output_type": "execute_result"
    }
   ],
   "source": [
    "df.columns"
   ]
  },
  {
   "cell_type": "code",
   "execution_count": 58,
   "id": "3aa63ced-9f12-496d-be8b-292eb131a3de",
   "metadata": {},
   "outputs": [
    {
     "data": {
      "text/plain": [
       "0         2024-02-06T23:00:00\n",
       "1         2024-02-06T23:00:00\n",
       "2         2024-02-06T23:00:00\n",
       "3         2024-02-06T23:00:00\n",
       "4         2024-02-06T23:00:00\n",
       "                 ...         \n",
       "383849    2022-01-01T00:00:00\n",
       "383850    2022-01-01T00:00:00\n",
       "383851    2022-01-01T00:00:00\n",
       "383852    2022-01-01T00:00:00\n",
       "383853    2022-01-01T00:00:00\n",
       "Name: Date_JJMMAA HH:MM, Length: 383854, dtype: object"
      ]
     },
     "execution_count": 58,
     "metadata": {},
     "output_type": "execute_result"
    }
   ],
   "source": [
    "df['Date_JJMMAA HH:MM'].str.split('+').str[0]"
   ]
  },
  {
   "cell_type": "code",
   "execution_count": 59,
   "id": "b57bcab9-71c8-4171-8a87-488f62ffe0eb",
   "metadata": {},
   "outputs": [],
   "source": [
    "df['Time'] = pd.to_datetime(df['Date_JJMMAA HH:MM'].str.split('+').str[0],format=\"%Y-%m-%dT%H:%M:%S\")\n",
    "df['Date'] = pd.to_datetime(df['Date_JJMMAA'])\n"
   ]
  },
  {
   "cell_type": "code",
   "execution_count": 61,
   "id": "c418404f-2164-4d87-870e-4186e5f89902",
   "metadata": {},
   "outputs": [],
   "source": [
    "df['Year'] = df['Date'].dt.year\n",
    "df['Month'] = df['Date'].dt.month\n",
    "df['DayOfWeek'] = df['Date'].dt.day_of_week\n",
    "   \n",
    "df['Hour'] = df['Time'].dt.hour"
   ]
  },
  {
   "cell_type": "code",
   "execution_count": 62,
   "id": "6b9826f7-0514-4bfd-a2f8-36fe398b60a8",
   "metadata": {},
   "outputs": [
    {
     "data": {
      "text/html": [
       "<div>\n",
       "<style scoped>\n",
       "    .dataframe tbody tr th:only-of-type {\n",
       "        vertical-align: middle;\n",
       "    }\n",
       "\n",
       "    .dataframe tbody tr th {\n",
       "        vertical-align: top;\n",
       "    }\n",
       "\n",
       "    .dataframe thead th {\n",
       "        text-align: right;\n",
       "    }\n",
       "</style>\n",
       "<table border=\"1\" class=\"dataframe\">\n",
       "  <thead>\n",
       "    <tr style=\"text-align: right;\">\n",
       "      <th></th>\n",
       "      <th>Id</th>\n",
       "      <th>Date_JJMMAA HH:MM</th>\n",
       "      <th>Comptage</th>\n",
       "      <th>Status</th>\n",
       "      <th>Nom</th>\n",
       "      <th>Usager</th>\n",
       "      <th>Photo</th>\n",
       "      <th>Date_JJMMAA</th>\n",
       "      <th>Time</th>\n",
       "      <th>Date</th>\n",
       "      <th>Year</th>\n",
       "      <th>Month</th>\n",
       "      <th>DayOfWeek</th>\n",
       "      <th>Hour</th>\n",
       "    </tr>\n",
       "  </thead>\n",
       "  <tbody>\n",
       "    <tr>\n",
       "      <th>0</th>\n",
       "      <td>300033642</td>\n",
       "      <td>2024-02-06T23:00:00+01:00</td>\n",
       "      <td>36</td>\n",
       "      <td>raw</td>\n",
       "      <td>Eco 24 - Pont Corneille ROUEN</td>\n",
       "      <td>Vélo</td>\n",
       "      <td>https://filer.eco-counter-tools.com/file/67/18...</td>\n",
       "      <td>2024-02-06</td>\n",
       "      <td>2024-02-06 23:00:00</td>\n",
       "      <td>2024-02-06</td>\n",
       "      <td>2024</td>\n",
       "      <td>2</td>\n",
       "      <td>1</td>\n",
       "      <td>23</td>\n",
       "    </tr>\n",
       "    <tr>\n",
       "      <th>1</th>\n",
       "      <td>100007116</td>\n",
       "      <td>2024-02-06T23:00:00+01:00</td>\n",
       "      <td>1</td>\n",
       "      <td>raw</td>\n",
       "      <td>Eco 08 - Avenue de l'Europe MONT ST AIGNAN</td>\n",
       "      <td>Vélo</td>\n",
       "      <td>https://filer.eco-counter-tools.com/file/7d/83...</td>\n",
       "      <td>2024-02-06</td>\n",
       "      <td>2024-02-06 23:00:00</td>\n",
       "      <td>2024-02-06</td>\n",
       "      <td>2024</td>\n",
       "      <td>2</td>\n",
       "      <td>1</td>\n",
       "      <td>23</td>\n",
       "    </tr>\n",
       "    <tr>\n",
       "      <th>2</th>\n",
       "      <td>100018293</td>\n",
       "      <td>2024-02-06T23:00:00+01:00</td>\n",
       "      <td>2</td>\n",
       "      <td>raw</td>\n",
       "      <td>Eco 11 - Rue Petites Eaux du Robec ROUEN</td>\n",
       "      <td>Vélo</td>\n",
       "      <td>https://filer.eco-counter-tools.com/file/7c/3f...</td>\n",
       "      <td>2024-02-06</td>\n",
       "      <td>2024-02-06 23:00:00</td>\n",
       "      <td>2024-02-06</td>\n",
       "      <td>2024</td>\n",
       "      <td>2</td>\n",
       "      <td>1</td>\n",
       "      <td>23</td>\n",
       "    </tr>\n",
       "    <tr>\n",
       "      <th>3</th>\n",
       "      <td>100018294</td>\n",
       "      <td>2024-02-06T23:00:00+01:00</td>\n",
       "      <td>0</td>\n",
       "      <td>raw</td>\n",
       "      <td>Eco 12 - Rue de la Foret VAL DE LA HAYE</td>\n",
       "      <td>Vélo</td>\n",
       "      <td>https://filer.eco-counter-tools.com/file/da/73...</td>\n",
       "      <td>2024-02-06</td>\n",
       "      <td>2024-02-06 23:00:00</td>\n",
       "      <td>2024-02-06</td>\n",
       "      <td>2024</td>\n",
       "      <td>2</td>\n",
       "      <td>1</td>\n",
       "      <td>23</td>\n",
       "    </tr>\n",
       "    <tr>\n",
       "      <th>4</th>\n",
       "      <td>100019265</td>\n",
       "      <td>2024-02-06T23:00:00+01:00</td>\n",
       "      <td>0</td>\n",
       "      <td>raw</td>\n",
       "      <td>Eco 04 - Zénith GRAND QUEVILLY</td>\n",
       "      <td>Vélo</td>\n",
       "      <td>https://filer.eco-counter-tools.com/file/f1/c9...</td>\n",
       "      <td>2024-02-06</td>\n",
       "      <td>2024-02-06 23:00:00</td>\n",
       "      <td>2024-02-06</td>\n",
       "      <td>2024</td>\n",
       "      <td>2</td>\n",
       "      <td>1</td>\n",
       "      <td>23</td>\n",
       "    </tr>\n",
       "    <tr>\n",
       "      <th>...</th>\n",
       "      <td>...</td>\n",
       "      <td>...</td>\n",
       "      <td>...</td>\n",
       "      <td>...</td>\n",
       "      <td>...</td>\n",
       "      <td>...</td>\n",
       "      <td>...</td>\n",
       "      <td>...</td>\n",
       "      <td>...</td>\n",
       "      <td>...</td>\n",
       "      <td>...</td>\n",
       "      <td>...</td>\n",
       "      <td>...</td>\n",
       "      <td>...</td>\n",
       "    </tr>\n",
       "    <tr>\n",
       "      <th>383849</th>\n",
       "      <td>100018294</td>\n",
       "      <td>2022-01-01T00:00:00+01:00</td>\n",
       "      <td>0</td>\n",
       "      <td>raw</td>\n",
       "      <td>Eco 12 - Rue de la Foret VAL DE LA HAYE</td>\n",
       "      <td>Vélo</td>\n",
       "      <td>https://filer.eco-counter-tools.com/file/da/73...</td>\n",
       "      <td>2022-01-01</td>\n",
       "      <td>2022-01-01 00:00:00</td>\n",
       "      <td>2022-01-01</td>\n",
       "      <td>2022</td>\n",
       "      <td>1</td>\n",
       "      <td>5</td>\n",
       "      <td>0</td>\n",
       "    </tr>\n",
       "    <tr>\n",
       "      <th>383850</th>\n",
       "      <td>100005525</td>\n",
       "      <td>2022-01-01T00:00:00+01:00</td>\n",
       "      <td>0</td>\n",
       "      <td>raw</td>\n",
       "      <td>Eco 06 - Rue de la Prevotiere BOIS GUILLAUME</td>\n",
       "      <td>Vélo</td>\n",
       "      <td>https://filer.eco-counter-tools.com/file/3f/51...</td>\n",
       "      <td>2022-01-01</td>\n",
       "      <td>2022-01-01 00:00:00</td>\n",
       "      <td>2022-01-01</td>\n",
       "      <td>2022</td>\n",
       "      <td>1</td>\n",
       "      <td>5</td>\n",
       "      <td>0</td>\n",
       "    </tr>\n",
       "    <tr>\n",
       "      <th>383851</th>\n",
       "      <td>100048215</td>\n",
       "      <td>2022-01-01T00:00:00+01:00</td>\n",
       "      <td>2</td>\n",
       "      <td>raw</td>\n",
       "      <td>Eco 18 - Avenue Jacques Cartier ROUEN</td>\n",
       "      <td>Vélo</td>\n",
       "      <td>https://filer.eco-counter-tools.com/file/b8/26...</td>\n",
       "      <td>2022-01-01</td>\n",
       "      <td>2022-01-01 00:00:00</td>\n",
       "      <td>2022-01-01</td>\n",
       "      <td>2022</td>\n",
       "      <td>1</td>\n",
       "      <td>5</td>\n",
       "      <td>0</td>\n",
       "    </tr>\n",
       "    <tr>\n",
       "      <th>383852</th>\n",
       "      <td>100019265</td>\n",
       "      <td>2022-01-01T00:00:00+01:00</td>\n",
       "      <td>0</td>\n",
       "      <td>raw</td>\n",
       "      <td>Eco 04 - Zénith GRAND QUEVILLY</td>\n",
       "      <td>Vélo</td>\n",
       "      <td>https://filer.eco-counter-tools.com/file/f1/c9...</td>\n",
       "      <td>2022-01-01</td>\n",
       "      <td>2022-01-01 00:00:00</td>\n",
       "      <td>2022-01-01</td>\n",
       "      <td>2022</td>\n",
       "      <td>1</td>\n",
       "      <td>5</td>\n",
       "      <td>0</td>\n",
       "    </tr>\n",
       "    <tr>\n",
       "      <th>383853</th>\n",
       "      <td>100007115</td>\n",
       "      <td>2022-01-01T00:00:00+01:00</td>\n",
       "      <td>0</td>\n",
       "      <td>raw</td>\n",
       "      <td>Eco 07 - Sente des Forrieres BOIS GUILLAUME</td>\n",
       "      <td>Vélo</td>\n",
       "      <td>https://filer.eco-counter-tools.com/file/d4/f7...</td>\n",
       "      <td>2022-01-01</td>\n",
       "      <td>2022-01-01 00:00:00</td>\n",
       "      <td>2022-01-01</td>\n",
       "      <td>2022</td>\n",
       "      <td>1</td>\n",
       "      <td>5</td>\n",
       "      <td>0</td>\n",
       "    </tr>\n",
       "  </tbody>\n",
       "</table>\n",
       "<p>383854 rows × 14 columns</p>\n",
       "</div>"
      ],
      "text/plain": [
       "               Id          Date_JJMMAA HH:MM  Comptage Status  \\\n",
       "0       300033642  2024-02-06T23:00:00+01:00        36    raw   \n",
       "1       100007116  2024-02-06T23:00:00+01:00         1    raw   \n",
       "2       100018293  2024-02-06T23:00:00+01:00         2    raw   \n",
       "3       100018294  2024-02-06T23:00:00+01:00         0    raw   \n",
       "4       100019265  2024-02-06T23:00:00+01:00         0    raw   \n",
       "...           ...                        ...       ...    ...   \n",
       "383849  100018294  2022-01-01T00:00:00+01:00         0    raw   \n",
       "383850  100005525  2022-01-01T00:00:00+01:00         0    raw   \n",
       "383851  100048215  2022-01-01T00:00:00+01:00         2    raw   \n",
       "383852  100019265  2022-01-01T00:00:00+01:00         0    raw   \n",
       "383853  100007115  2022-01-01T00:00:00+01:00         0    raw   \n",
       "\n",
       "                                                 Nom Usager  \\\n",
       "0                      Eco 24 - Pont Corneille ROUEN   Vélo   \n",
       "1         Eco 08 - Avenue de l'Europe MONT ST AIGNAN   Vélo   \n",
       "2           Eco 11 - Rue Petites Eaux du Robec ROUEN   Vélo   \n",
       "3            Eco 12 - Rue de la Foret VAL DE LA HAYE   Vélo   \n",
       "4                     Eco 04 - Zénith GRAND QUEVILLY   Vélo   \n",
       "...                                              ...    ...   \n",
       "383849       Eco 12 - Rue de la Foret VAL DE LA HAYE   Vélo   \n",
       "383850  Eco 06 - Rue de la Prevotiere BOIS GUILLAUME   Vélo   \n",
       "383851         Eco 18 - Avenue Jacques Cartier ROUEN   Vélo   \n",
       "383852                Eco 04 - Zénith GRAND QUEVILLY   Vélo   \n",
       "383853   Eco 07 - Sente des Forrieres BOIS GUILLAUME   Vélo   \n",
       "\n",
       "                                                    Photo Date_JJMMAA  \\\n",
       "0       https://filer.eco-counter-tools.com/file/67/18...  2024-02-06   \n",
       "1       https://filer.eco-counter-tools.com/file/7d/83...  2024-02-06   \n",
       "2       https://filer.eco-counter-tools.com/file/7c/3f...  2024-02-06   \n",
       "3       https://filer.eco-counter-tools.com/file/da/73...  2024-02-06   \n",
       "4       https://filer.eco-counter-tools.com/file/f1/c9...  2024-02-06   \n",
       "...                                                   ...         ...   \n",
       "383849  https://filer.eco-counter-tools.com/file/da/73...  2022-01-01   \n",
       "383850  https://filer.eco-counter-tools.com/file/3f/51...  2022-01-01   \n",
       "383851  https://filer.eco-counter-tools.com/file/b8/26...  2022-01-01   \n",
       "383852  https://filer.eco-counter-tools.com/file/f1/c9...  2022-01-01   \n",
       "383853  https://filer.eco-counter-tools.com/file/d4/f7...  2022-01-01   \n",
       "\n",
       "                      Time       Date  Year  Month  DayOfWeek  Hour  \n",
       "0      2024-02-06 23:00:00 2024-02-06  2024      2          1    23  \n",
       "1      2024-02-06 23:00:00 2024-02-06  2024      2          1    23  \n",
       "2      2024-02-06 23:00:00 2024-02-06  2024      2          1    23  \n",
       "3      2024-02-06 23:00:00 2024-02-06  2024      2          1    23  \n",
       "4      2024-02-06 23:00:00 2024-02-06  2024      2          1    23  \n",
       "...                    ...        ...   ...    ...        ...   ...  \n",
       "383849 2022-01-01 00:00:00 2022-01-01  2022      1          5     0  \n",
       "383850 2022-01-01 00:00:00 2022-01-01  2022      1          5     0  \n",
       "383851 2022-01-01 00:00:00 2022-01-01  2022      1          5     0  \n",
       "383852 2022-01-01 00:00:00 2022-01-01  2022      1          5     0  \n",
       "383853 2022-01-01 00:00:00 2022-01-01  2022      1          5     0  \n",
       "\n",
       "[383854 rows x 14 columns]"
      ]
     },
     "execution_count": 62,
     "metadata": {},
     "output_type": "execute_result"
    }
   ],
   "source": [
    "df"
   ]
  },
  {
   "cell_type": "code",
   "execution_count": 63,
   "id": "23889fec-ae82-4519-a419-56956d348146",
   "metadata": {},
   "outputs": [],
   "source": [
    "def plot(name):\n",
    "    data = df.loc[df['Nom']==name,['Time','Date','Comptage','Nom']]\n",
    "    return px.line(x=data['Time'],y=data['Comptage'],title=name,height=800)"
   ]
  },
  {
   "cell_type": "code",
   "execution_count": 64,
   "id": "59d6984d-73a9-4718-9545-604bd2bb66e6",
   "metadata": {},
   "outputs": [
    {
     "data": {
      "application/vnd.jupyter.widget-view+json": {
       "model_id": "55607ebbd9bc4de987c4cc0e1ea83f48",
       "version_major": 2,
       "version_minor": 0
      },
      "text/plain": [
       "interactive(children=(Dropdown(description='name', options=('Eco 24 - Pont Corneille ROUEN', \"Eco 08 - Avenue …"
      ]
     },
     "metadata": {},
     "output_type": "display_data"
    },
    {
     "data": {
      "text/plain": [
       "<function __main__.plot(name)>"
      ]
     },
     "execution_count": 64,
     "metadata": {},
     "output_type": "execute_result"
    }
   ],
   "source": [
    "ipywidgets.interact(plot,name=df['Nom'].unique())"
   ]
  },
  {
   "cell_type": "code",
   "execution_count": 65,
   "id": "16253fa0-1977-4b0e-a526-4b1796efd5ab",
   "metadata": {},
   "outputs": [],
   "source": [
    "def plot_comptage_jour(name):\n",
    "    data = df.loc[df['Nom']==name,['Date','Comptage']]\n",
    "    data = data.groupby('Date').sum()\n",
    "    data = data.reset_index()\n",
    "    return px.line(x=data['Date'],y=data['Comptage'],title=name,height=500)\n"
   ]
  },
  {
   "cell_type": "code",
   "execution_count": 66,
   "id": "05f36d41-858d-4a41-bafb-a3260079ed22",
   "metadata": {},
   "outputs": [
    {
     "data": {
      "application/vnd.jupyter.widget-view+json": {
       "model_id": "cbcc7f4c137b4233b666064a9ebaa257",
       "version_major": 2,
       "version_minor": 0
      },
      "text/plain": [
       "interactive(children=(Dropdown(description='name', options=('Eco 24 - Pont Corneille ROUEN', \"Eco 08 - Avenue …"
      ]
     },
     "metadata": {},
     "output_type": "display_data"
    },
    {
     "data": {
      "text/plain": [
       "<function __main__.plot_comptage_jour(name)>"
      ]
     },
     "execution_count": 66,
     "metadata": {},
     "output_type": "execute_result"
    }
   ],
   "source": [
    "ipywidgets.interact(plot_comptage_jour,name=df['Nom'].unique())"
   ]
  },
  {
   "cell_type": "code",
   "execution_count": 67,
   "id": "77841244-e713-4df7-bf7c-84fa49e14aa2",
   "metadata": {},
   "outputs": [],
   "source": [
    "def plot_comptage_jour_de_la_semaine(name):\n",
    "    data = df.loc[df['Nom']==name,['DayOfWeek','Comptage']]\n",
    "    data = data.groupby('DayOfWeek').mean()\n",
    "    data = data.reset_index()\n",
    "    return px.bar(x=data['DayOfWeek'],y=data['Comptage'],title=name,height=500)"
   ]
  },
  {
   "cell_type": "code",
   "execution_count": 68,
   "id": "abd45a20-6596-4912-ae2e-3d24f5ed7968",
   "metadata": {},
   "outputs": [
    {
     "data": {
      "application/vnd.jupyter.widget-view+json": {
       "model_id": "322330b6f1f943509f01e31fc878f0b3",
       "version_major": 2,
       "version_minor": 0
      },
      "text/plain": [
       "interactive(children=(Dropdown(description='name', options=('Eco 24 - Pont Corneille ROUEN', \"Eco 08 - Avenue …"
      ]
     },
     "metadata": {},
     "output_type": "display_data"
    },
    {
     "data": {
      "text/plain": [
       "<function __main__.plot_comptage_jour_de_la_semaine(name)>"
      ]
     },
     "execution_count": 68,
     "metadata": {},
     "output_type": "execute_result"
    }
   ],
   "source": [
    "ipywidgets.interact(plot_comptage_jour_de_la_semaine,name=df['Nom'].unique())"
   ]
  },
  {
   "cell_type": "code",
   "execution_count": 69,
   "id": "4deb5c49-1a4c-4702-8d4a-ad0d8c8cc799",
   "metadata": {},
   "outputs": [],
   "source": [
    "def plot_moyenne_horaire(name):\n",
    "    data = df.loc[df['Nom']==name,['Hour','Comptage']]\n",
    "    data = data.groupby('Hour').mean()\n",
    "    data = data.reset_index()\n",
    "    return px.bar(x=data['Hour'],y=data['Comptage'],title=name,height=500)"
   ]
  },
  {
   "cell_type": "code",
   "execution_count": 70,
   "id": "2badd885-c0d5-47b8-81c2-36d805095809",
   "metadata": {},
   "outputs": [
    {
     "data": {
      "application/vnd.jupyter.widget-view+json": {
       "model_id": "0a411d82fabc4701b422e3b48ab491f4",
       "version_major": 2,
       "version_minor": 0
      },
      "text/plain": [
       "interactive(children=(Dropdown(description='name', options=('Eco 24 - Pont Corneille ROUEN', \"Eco 08 - Avenue …"
      ]
     },
     "metadata": {},
     "output_type": "display_data"
    },
    {
     "data": {
      "text/plain": [
       "<function __main__.plot_moyenne_horaire(name)>"
      ]
     },
     "execution_count": 70,
     "metadata": {},
     "output_type": "execute_result"
    }
   ],
   "source": [
    "ipywidgets.interact(plot_moyenne_horaire,name=df['Nom'].unique())"
   ]
  },
  {
   "cell_type": "code",
   "execution_count": 71,
   "id": "b96627d5-1c4e-4c69-9c1d-a6a8da9369d2",
   "metadata": {},
   "outputs": [],
   "source": [
    "def plot_volume_annuel(name):\n",
    "    data = df.loc[df['Nom']==name,['Year','Comptage']]\n",
    "    data = data.groupby('Year').sum()\n",
    "    data = data.reset_index()\n",
    "    return px.bar(x=data['Year'],y=data['Comptage'],title=name,height=500)"
   ]
  },
  {
   "cell_type": "code",
   "execution_count": 72,
   "id": "f4bb7bde-476d-475d-9b64-101f924935b3",
   "metadata": {},
   "outputs": [
    {
     "data": {
      "application/vnd.jupyter.widget-view+json": {
       "model_id": "7a32568cbe794dabbaeef78ce3528801",
       "version_major": 2,
       "version_minor": 0
      },
      "text/plain": [
       "interactive(children=(Dropdown(description='name', options=('Eco 24 - Pont Corneille ROUEN', \"Eco 08 - Avenue …"
      ]
     },
     "metadata": {},
     "output_type": "display_data"
    },
    {
     "data": {
      "text/plain": [
       "<function __main__.plot_volume_annuel(name)>"
      ]
     },
     "execution_count": 72,
     "metadata": {},
     "output_type": "execute_result"
    }
   ],
   "source": [
    "ipywidgets.interact(plot_volume_annuel,name=df['Nom'].unique())"
   ]
  },
  {
   "cell_type": "code",
   "execution_count": 73,
   "id": "d0b654d4-ef51-4652-87b9-57bc89c69e98",
   "metadata": {},
   "outputs": [],
   "source": [
    "def plot_volume_mensuel(name):\n",
    "    data = df.loc[df['Nom']==name,['Month','Year','Comptage']]\n",
    "    data = data.groupby(['Year','Month']).sum()\n",
    "    data = data.reset_index()\n",
    "    data['Month-Year'] = data['Month'].astype(str)+'-'+data['Year'].astype(str)\n",
    "    return px.bar(x=data['Month-Year'],y=data['Comptage'],title=name,height=500)"
   ]
  },
  {
   "cell_type": "code",
   "execution_count": 74,
   "id": "ca8f4af6-f2eb-45f2-ae37-b5340664b4b4",
   "metadata": {},
   "outputs": [
    {
     "data": {
      "application/vnd.jupyter.widget-view+json": {
       "model_id": "b5827dd5b0554a4c876fc73d48542191",
       "version_major": 2,
       "version_minor": 0
      },
      "text/plain": [
       "interactive(children=(Dropdown(description='name', options=('Eco 24 - Pont Corneille ROUEN', \"Eco 08 - Avenue …"
      ]
     },
     "metadata": {},
     "output_type": "display_data"
    },
    {
     "data": {
      "text/plain": [
       "<function __main__.plot_volume_mensuel(name)>"
      ]
     },
     "execution_count": 74,
     "metadata": {},
     "output_type": "execute_result"
    }
   ],
   "source": [
    "ipywidgets.interact(plot_volume_mensuel,name=df['Nom'].unique())"
   ]
  },
  {
   "cell_type": "code",
   "execution_count": 76,
   "id": "563fd687-7d02-473a-b053-d679b1aa66c2",
   "metadata": {},
   "outputs": [
    {
     "data": {
      "application/vnd.jupyter.widget-view+json": {
       "model_id": "0aac9adc854844f0abb3d7b0d66e47db",
       "version_major": 2,
       "version_minor": 0
      },
      "text/plain": [
       "interactive(children=(Dropdown(description='name', options=('Eco 24 - Pont Corneille ROUEN', \"Eco 08 - Avenue …"
      ]
     },
     "metadata": {},
     "output_type": "display_data"
    },
    {
     "data": {
      "text/plain": [
       "<function __main__.multiplot(name)>"
      ]
     },
     "execution_count": 76,
     "metadata": {},
     "output_type": "execute_result"
    }
   ],
   "source": [
    "def multiplot(name):\n",
    "    for f in plot(name),plot_comptage_jour(name),plot_comptage_jour_de_la_semaine(name),plot_moyenne_horaire(name),plot_volume_annuel(name),plot_volume_mensuel(name):\n",
    "        f.show()\n",
    "\n",
    "ipywidgets.interact(multiplot,name=df['Nom'].unique())"
   ]
  },
  {
   "cell_type": "code",
   "execution_count": null,
   "id": "158176e7-896f-44a4-9619-479e381e94a1",
   "metadata": {},
   "outputs": [],
   "source": []
  }
 ],
 "metadata": {
  "kernelspec": {
   "display_name": "Python 3 (ipykernel)",
   "language": "python",
   "name": "python3"
  },
  "language_info": {
   "codemirror_mode": {
    "name": "ipython",
    "version": 3
   },
   "file_extension": ".py",
   "mimetype": "text/x-python",
   "name": "python",
   "nbconvert_exporter": "python",
   "pygments_lexer": "ipython3",
   "version": "3.8.16"
  }
 },
 "nbformat": 4,
 "nbformat_minor": 5
}
